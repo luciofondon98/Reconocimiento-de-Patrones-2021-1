{
 "cells": [
  {
   "cell_type": "markdown",
   "metadata": {},
   "source": [
    "\n",
    "\n",
    "<img src=\"http://www.exalumnos.usm.cl/wp-content/uploads/2015/06/ISOTIPO-Color.jpg\" title=\"Title text\" width=\"20%\" />\n",
    "\n",
    "<hr style=\"height:2px;border:none\"/>\n",
    "<h1 align='center'> INF-479 Reconocimiento de patrones en minería de datos </h1>\n",
    "\n",
    "<H2 align='center'> Tarea 1 - Clustering </H2>\n",
    "<H3 align='center'> Lucio Fondón Rebolledo - 201773610-0</H3>\n",
    "<H3 align='center'> Francisco Reyes Jainaga - 201773529-5</H3>\n",
    "<hr style=\"height:2px;border:none\"/>"
   ]
  },
  {
   "cell_type": "markdown",
   "metadata": {},
   "source": [
    "# Instrucciones"
   ]
  },
  {
   "cell_type": "markdown",
   "metadata": {},
   "source": [
    "1. La tarea debe ser desarrollada en parejas.  \n",
    "2. Los medios de consultas serán Aula y el canal de Discord oficial del curso. \n",
    "3. La tarea debe ser realizada en Jupyter Notebook (Python3) utilizando este archivo como base.\n",
    "4. Las librerías permitidas son las que se encuentran importadas en el Notebook. \n",
    "5. Se evaluará la correcta implementación de los Algoritmos de Clustering como también la comprensión de sus fundamentos teóricos y aplicaciones.\n",
    "6. El archivo de entrega debe denominarse T1_Rol1_Rol2.ipynb. De no respetarse este formato existirá un descuento de 30 puntos. \n",
    "7. La fecha de entrega es el viernes 28 de mayo a las 23:55 hrs, posterior a esto se descontará 1 punto por cada minuto de atraso.  "
   ]
  },
  {
   "cell_type": "markdown",
   "metadata": {},
   "source": [
    "# Parte 1 (55 pts)"
   ]
  },
  {
   "cell_type": "markdown",
   "metadata": {},
   "source": [
    "En esta primera parte de la tarea se estudiarán los algoritmos de Clustering K-means, Clustering jerárquico aglomerativo y DBSCAN, aplicados a 3 datasets de tipo vectorial. El objetivo es contrastar estos 3 algoritmos y determinar ventajas y desventajas frente a cada caso de estudio. Además, analizar el impacto de la elección de parámetros y medidas de proximidad. \n",
    "\n",
    "Para las implementaciones solicitadas, no necesitan generar el código de cada algoritmo a mano, por lo que pueden hacer uso de librerías que tengan estos algoritmos ya implementados. "
   ]
  },
  {
   "cell_type": "markdown",
   "metadata": {},
   "source": [
    "## 1.1 Dataset"
   ]
  },
  {
   "cell_type": "markdown",
   "metadata": {},
   "source": [
    "Para esta primera parte se cuenta con 3 archivos:\n",
    "\n",
    "1. <b>Spiral.txt</b> : $N=312, D=2$\n",
    "2. <b>R15.txt</b> : $N=600, D=2$\n",
    "3. <b>cute-t2-4k.txt</b> : $ N=4200, D=2$\n",
    "\n",
    "Cada uno correspondiente a un dataset vectorial bidimensional, donde cada fila del archivo tiene el formato: $x_1$\\t$x_2$. Siendo $x_1$ y $x_2$ los atributos de cada dato $X^{(i)}$ $\\in \\mathbf{R} ^{2}$ . \n",
    "Los datasets tienen una cantidad de puntos de 312, 600 y 4200 respectivamente."
   ]
  },
  {
   "cell_type": "code",
   "execution_count": 1,
   "metadata": {},
   "outputs": [],
   "source": [
    "#Librerías \n",
    "import sklearn.cluster as skl\n",
    "from sklearn.preprocessing import StandardScaler\n",
    "import matplotlib.pyplot as plt\n",
    "from sklearn import metrics\n",
    "import numpy as np\n",
    "import pylab as pl\n",
    "import pandas as pd\n",
    "import scipy\n",
    "from ipywidgets import interact, interactive, fixed, interact_manual"
   ]
  },
  {
   "cell_type": "code",
   "execution_count": 2,
   "metadata": {
    "scrolled": true
   },
   "outputs": [
    {
     "data": {
      "application/vnd.jupyter.widget-view+json": {
       "model_id": "51bcfc26c4be4b99bcd3a096b77e42db",
       "version_major": 2,
       "version_minor": 0
      },
      "text/plain": [
       "interactive(children=(Dropdown(description='file', options=('Spiral.txt', 'R15.txt', 'cure-t2-4k.txt'), value=…"
      ]
     },
     "metadata": {},
     "output_type": "display_data"
    },
    {
     "data": {
      "text/plain": [
       "<function __main__.data_plot(file)>"
      ]
     },
     "execution_count": 2,
     "metadata": {},
     "output_type": "execute_result"
    }
   ],
   "source": [
    "#data_array: Función que devuelve un np.array de tamaño [n, D]\n",
    "#Parámetros: file -> nombre del archivo \n",
    "\n",
    "#data_plot: Función que genera una gráfica del dataset \n",
    "#especificado en el parámetro file\n",
    "\n",
    "spiral_df = pd.read_csv(\"Spiral.txt\", delimiter = \"\\t\", header = None)\n",
    "r15_df = pd.read_csv(\"R15.txt\", delimiter = \"\\t\", header = None)\n",
    "cure_df = pd.read_csv(\"cure-t2-4k.txt\", delimiter = \"\\t\", header = None)\n",
    "\n",
    "colors = ['salmon','khaki','silver','lightgreen','steelblue','pink','lightblue','orchid','sienna','grey','lightcoral', 'chocolate', 'maroon', 'tan', 'olivedrab','olive', 'dodgerblue', 'crimson', 'navy', 'fuchsia', 'aqua']\n",
    "\n",
    "def data_array(file):\n",
    "    data = np.loadtxt(file)\n",
    "    return data\n",
    "\n",
    "def data_plot(file):\n",
    "    data = data_array(file)\n",
    "    plt.title(\"Dataset\") \n",
    "    plt.xlabel(\"x_1\") \n",
    "    plt.ylabel(\"x_2\") \n",
    "    plt.plot(data[:,0], data[:,1],\"ob\", color=\"c\") \n",
    "    plt.show() \n",
    "\n",
    "#Ejemplo de uso de la función interact \n",
    "interact(data_plot, file=[\"Spiral.txt\",\"R15.txt\",\"cure-t2-4k.txt\"])"
   ]
  },
  {
   "cell_type": "markdown",
   "metadata": {},
   "source": [
    "## 1.2 K-Means (15 puntos)"
   ]
  },
  {
   "cell_type": "markdown",
   "metadata": {},
   "source": [
    "1. Aplicar el algoritmo K-Means a cada uno de los datasets, utilizando distancia euclideana como medida de proximidad.\n",
    "2. Realizar una gráfica para cada dataset donde se distinga claramente cada cluster obtenido y sus centroides.\n",
    "3. Finalmente responder: \n",
    "\n",
    "    >a. ¿En cuál dataset se obtiene un mejor resultado utilizando este algoritmo? ¿Por qué? \n",
    "    \n",
    "    >b. ¿Qué valor de k (cantidad de centroides) entrega un mejor resultado para cada uno de los datasets? ¿Qué método se podría utilizar para determinar un valor óptimo para k? \n",
    "    \n",
    "<i> Hint: Para la pregunta 3.b, se sugiere utilizar la función interact de la librería [ipywidget](https://ipywidgets.readthedocs.io/en/latest/examples/Using%20Interact.html).</i>"
   ]
  },
  {
   "cell_type": "code",
   "execution_count": 19,
   "metadata": {},
   "outputs": [],
   "source": [
    "cant_cluster = [2,3,4,5,6,7,8,9,10,11,12,13,14,15,16,17,18,19,20]\n",
    "\n",
    "def func_kmeans(archivo, n_clusters):\n",
    "    X = data_array(archivo)\n",
    "    k_means = skl.KMeans(n_clusters).fit(X)\n",
    "\n",
    "    centroids = k_means.cluster_centers_\n",
    "    print(\"Centroides de 'Spiral.txt'\\n\", centroids)\n",
    "    \n",
    "    score = metrics.silhouette_score(X, k_means.labels_, metric='euclidean')\n",
    "    print('Silhouetter Score: %.3f' % score)\n",
    "\n",
    "    for k,color in zip(range(n_clusters),colors):\n",
    "        my_members = k_means.labels_ == k\n",
    "        cluster_center = centroids[k]\n",
    "        plt.scatter(X[my_members, 0], X[my_members, 1],color = color)\n",
    "        plt.scatter(cluster_center[0], cluster_center[1])\n",
    "    plt.title('KMeans - Spiral.txt')\n",
    "    plt.xticks(())\n",
    "    plt.yticks(())\n",
    "    plt.show()"
   ]
  },
  {
   "cell_type": "code",
   "execution_count": 12,
   "metadata": {},
   "outputs": [
    {
     "data": {
      "image/png": "[encoded data removed]",
      "text/plain": [
       "<Figure size 576x432 with 1 Axes>"
      ]
     },
     "metadata": {
      "needs_background": "light"
     },
     "output_type": "display_data"
    }
   ],
   "source": [
    "Rango = range(1, 10)\n",
    "kmeans = [skl.KMeans(n_clusters=i) for i in Rango]\n",
    "\n",
    "#Método del codo para hayar k adecuado\n",
    "X = data_array('Spiral.txt')\n",
    "puntaje = [kmeans[i].fit(X).score(X) for i in range(len(kmeans))]\n",
    "plt.figure(figsize=(8,6))\n",
    "plt.plot(Rango,puntaje, '.-')\n",
    "plt.xlabel('N de clusters')\n",
    "plt.ylabel('Puntaje')\n",
    "plt.title('Elbow Method Spiral.txt')\n",
    "plt.show()"
   ]
  },
  {
   "cell_type": "code",
   "execution_count": 13,
   "metadata": {},
   "outputs": [
    {
     "name": "stdout",
     "output_type": "stream",
     "text": [
      "36\n"
     ]
    },
    {
     "data": {
      "image/png": "[encoded data removed]",
      "text/plain": [
       "<Figure size 576x432 with 1 Axes>"
      ]
     },
     "metadata": {
      "needs_background": "light"
     },
     "output_type": "display_data"
    }
   ],
   "source": [
    "points_spiral = spiral_df.to_numpy()\n",
    "\n",
    "rango_silhouette = range(2,40)\n",
    "\n",
    "k_means = [skl.KMeans(n_clusters=i).fit(points_spiral) for i in rango_silhouette]\n",
    "\n",
    "silhouette_spiral = [] \n",
    "\n",
    "for k_mean in k_means:\n",
    "    score = metrics.silhouette_score(points_spiral, k_mean.labels_, metric='euclidean')\n",
    "    silhouette_spiral.append(score)\n",
    "\n",
    "plt.figure(figsize=(8,6))\n",
    "plt.plot(rango_silhouette,silhouette_spiral, '.-')\n",
    "plt.xlabel('N de clusters')\n",
    "plt.ylabel('Silhouette Coefficient')\n",
    "plt.title('Silhouette Method Spiral.txt')\n",
    "\n",
    "print(silhouette_spiral.index(max(silhouette_spiral))+2)\n",
    "\n",
    "plt.show()"
   ]
  },
  {
   "cell_type": "code",
   "execution_count": 20,
   "metadata": {},
   "outputs": [
    {
     "data": {
      "application/vnd.jupyter.widget-view+json": {
       "model_id": "16865ee412de464989c5ae100a2d4423",
       "version_major": 2,
       "version_minor": 0
      },
      "text/plain": [
       "interactive(children=(Text(value='Spiral.txt', description='archivo'), Dropdown(description='n_clusters', opti…"
      ]
     },
     "metadata": {},
     "output_type": "display_data"
    },
    {
     "data": {
      "text/plain": [
       "<function __main__.func_kmeans(archivo, n_clusters)>"
      ]
     },
     "execution_count": 20,
     "metadata": {},
     "output_type": "execute_result"
    }
   ],
   "source": [
    "# Para dataset \"Spiral.txt\"\n",
    "\n",
    "interact(func_kmeans,archivo=\"Spiral.txt\", n_clusters = cant_cluster)\n"
   ]
  },
  {
   "cell_type": "code",
   "execution_count": 10,
   "metadata": {},
   "outputs": [
    {
     "data": {
      "image/png": "[encoded data removed]",
      "text/plain": [
       "<Figure size 576x432 with 1 Axes>"
      ]
     },
     "metadata": {
      "needs_background": "light"
     },
     "output_type": "display_data"
    }
   ],
   "source": [
    "#Método del codo para hayar k adecuado\n",
    "X = data_array('R15.txt')\n",
    "puntaje = [kmeans[i].fit(X).score(X) for i in range(len(kmeans))]\n",
    "plt.figure(figsize=(8,6))\n",
    "plt.plot(Rango,puntaje, '.-')\n",
    "plt.xlabel('N de clusters')\n",
    "plt.ylabel('Puntaje')\n",
    "plt.title('Elbow Method R15.txt')\n",
    "\n",
    "plt.show()"
   ]
  },
  {
   "cell_type": "code",
   "execution_count": 11,
   "metadata": {},
   "outputs": [
    {
     "name": "stdout",
     "output_type": "stream",
     "text": [
      "15\n"
     ]
    },
    {
     "data": {
      "image/png": "[encoded data removed]",
      "text/plain": [
       "<Figure size 576x432 with 1 Axes>"
      ]
     },
     "metadata": {
      "needs_background": "light"
     },
     "output_type": "display_data"
    }
   ],
   "source": [
    "points_r15 = r15_df.to_numpy()\n",
    "\n",
    "rango_silhouette = range(2,40)\n",
    "\n",
    "k_means = [skl.KMeans(n_clusters=i).fit(points_r15) for i in rango_silhouette]\n",
    "\n",
    "silhouette_r15 = [] \n",
    "\n",
    "for k_mean in k_means:\n",
    "    score = metrics.silhouette_score(points_r15, k_mean.labels_, metric='euclidean')\n",
    "    silhouette_r15.append(score)\n",
    "\n",
    "plt.figure(figsize=(8,6))\n",
    "plt.plot(rango_silhouette,silhouette_r15, '.-')\n",
    "plt.xlabel('N de clusters')\n",
    "plt.ylabel('Silhouette Coefficient')\n",
    "plt.title('Silhouette Method R15.txt')\n",
    "\n",
    "print(silhouette_r15.index(max(silhouette_r15))+2)\n",
    "\n",
    "plt.show()"
   ]
  },
  {
   "cell_type": "code",
   "execution_count": 8,
   "metadata": {},
   "outputs": [
    {
     "data": {
      "application/vnd.jupyter.widget-view+json": {
       "model_id": "797723b257c1474d845d00eca376dccf",
       "version_major": 2,
       "version_minor": 0
      },
      "text/plain": [
       "interactive(children=(Text(value='R15.txt', description='archivo'), Dropdown(description='n_clusters', options…"
      ]
     },
     "metadata": {},
     "output_type": "display_data"
    },
    {
     "data": {
      "text/plain": [
       "<function __main__.func_kmeans(archivo, n_clusters)>"
      ]
     },
     "execution_count": 8,
     "metadata": {},
     "output_type": "execute_result"
    }
   ],
   "source": [
    "# Para dataset \"R15.txt\"\n",
    "\n",
    "interact(func_kmeans,archivo=\"R15.txt\", n_clusters = cant_cluster)"
   ]
  },
  {
   "cell_type": "code",
   "execution_count": 14,
   "metadata": {},
   "outputs": [
    {
     "data": {
      "image/png": "[encoded data removed]",
      "text/plain": [
       "<Figure size 576x432 with 1 Axes>"
      ]
     },
     "metadata": {
      "needs_background": "light"
     },
     "output_type": "display_data"
    }
   ],
   "source": [
    "X = data_array('cure-t2-4k.txt')\n",
    "puntaje = [kmeans[i].fit(X).score(X) for i in range(len(kmeans))]\n",
    "plt.figure(figsize=(8,6))\n",
    "plt.plot(Rango,puntaje, '.-')\n",
    "plt.xlabel('N de clusters')\n",
    "plt.ylabel('Puntaje')\n",
    "plt.title('Elbow Method cure-t2-4k.txt')\n",
    "\n",
    "plt.show()"
   ]
  },
  {
   "cell_type": "code",
   "execution_count": 15,
   "metadata": {},
   "outputs": [
    {
     "name": "stdout",
     "output_type": "stream",
     "text": [
      "10\n"
     ]
    },
    {
     "data": {
      "image/png": "[encoded data removed]",
      "text/plain": [
       "<Figure size 576x432 with 1 Axes>"
      ]
     },
     "metadata": {
      "needs_background": "light"
     },
     "output_type": "display_data"
    }
   ],
   "source": [
    "points_cure = cure_df.to_numpy()\n",
    "\n",
    "rango_silhouette = range(2,20)\n",
    "\n",
    "k_means = [skl.KMeans(n_clusters=i).fit(points_cure) for i in rango_silhouette]\n",
    "\n",
    "silhouette_cure = [] \n",
    "\n",
    "for k_mean in k_means:\n",
    "    score = metrics.silhouette_score(points_cure, k_mean.labels_, metric='euclidean')\n",
    "    silhouette_cure.append(score)\n",
    "\n",
    "plt.figure(figsize=(8,6))\n",
    "plt.plot(rango_silhouette,silhouette_cure, '.-')\n",
    "plt.xlabel('N de clusters')\n",
    "plt.ylabel('Silhouette Coefficient')\n",
    "plt.title('Silhouette Method cure-t2-4k.txt')\n",
    "\n",
    "print(silhouette_cure.index(max(silhouette_cure))+2)\n",
    "\n",
    "plt.show()"
   ]
  },
  {
   "cell_type": "code",
   "execution_count": 16,
   "metadata": {
    "scrolled": false
   },
   "outputs": [
    {
     "data": {
      "application/vnd.jupyter.widget-view+json": {
       "model_id": "bd1c81e65c0c4e4287c0b8ff1b597719",
       "version_major": 2,
       "version_minor": 0
      },
      "text/plain": [
       "interactive(children=(Text(value='cure-t2-4k.txt', description='archivo'), Dropdown(description='n_clusters', …"
      ]
     },
     "metadata": {},
     "output_type": "display_data"
    },
    {
     "data": {
      "text/plain": [
       "<function __main__.func_kmeans(archivo, n_clusters)>"
      ]
     },
     "execution_count": 16,
     "metadata": {},
     "output_type": "execute_result"
    }
   ],
   "source": [
    "# Para dataset \"cure-t2-4k.txt\"\n",
    "\n",
    "interact(func_kmeans,archivo=\"cure-t2-4k.txt\", n_clusters = cant_cluster)"
   ]
  },
  {
   "cell_type": "markdown",
   "metadata": {},
   "source": [
    "a) ¿En cuál dataset se obtiene un mejor resultado utilizando este algoritmo? ¿Por qué?"
   ]
  },
  {
   "cell_type": "markdown",
   "metadata": {},
   "source": [
    "## 1.3 DBSCAN (15 puntos)"
   ]
  },
  {
   "cell_type": "markdown",
   "metadata": {},
   "source": [
    "1. Aplicar el algoritmo DBSCAN a cada uno de los datasets.\n",
    "2. Realizar una gráfica para cada dataset donde se distinga claramente cada cluster obtenido.\n",
    "3. Finalmente responder: \n",
    "    > a. ¿En cuál dataset se obtiene un mejor resultado utilizando este algoritmo? ¿Por qué?\n",
    "    \n",
    "    > b. ¿Qué parámetros de Eps y minPts entregan el mejor resultado para cada gráfico? ¿Qué estrategia podríamos utilizar para escoger estos parámetros?  \n",
    "    \n",
    "<i> Hint: Para la pregunta 3.b, se sugiere utilizar la función interact de la librería [ipywidget](https://ipywidgets.readthedocs.io/en/latest/examples/Using%20Interact.html).</i>"
   ]
  },
  {
   "cell_type": "code",
   "execution_count": 24,
   "metadata": {},
   "outputs": [],
   "source": [
    "#Implementación\n",
    "from sklearn.cluster import DBSCAN\n",
    "from sklearn import metrics\n",
    "import ipywidgets as widgets\n",
    "# los parametros variables son eps(radio) y min_samples(cant minima de puntos dentro)\n",
    "\n",
    "def func_DBSCAN(archivo,eps, minimum_samples):\n",
    "    X = data_array(archivo)\n",
    "    db = DBSCAN(eps, minimum_samples).fit(X)\n",
    "    core_samples_mask = np.zeros_like(db.labels_, dtype=bool)\n",
    "    core_samples_mask[db.core_sample_indices_] = True\n",
    "    labels = db.labels_\n",
    "\n",
    "    print(\"Silhouette Coefficient: %0.3f\" % metrics.silhouette_score(X, labels))\n",
    "\n",
    "    n_clusters_ = len(set(labels)) - (1 if -1 in labels else 0)\n",
    "    n_noise_ = list(labels).count(-1)\n",
    "\n",
    "    print(\"Número de clusters: \"+ str(n_clusters_))\n",
    "    print(n_noise_)\n",
    "\n",
    "    #conjunto de labels\n",
    "    unique_labels = set(labels)\n",
    "\n",
    "    for k, col in zip(unique_labels, colors):\n",
    "        if k == -1:\n",
    "            # ruido\n",
    "            col = \"black\"\n",
    "\n",
    "        class_member_mask = (labels == k)\n",
    "\n",
    "        xy = X[class_member_mask & core_samples_mask]\n",
    "        plt.plot(xy[:, 0], xy[:, 1], '.', color = col, markersize=14)\n",
    "\n",
    "        xy = X[class_member_mask & ~core_samples_mask]\n",
    "        plt.plot(xy[:, 0], xy[:, 1], 'o', color = col, markersize=6)\n",
    "\n",
    "    plt.title('Cantidad de clusters apróx: %d' % n_clusters_)\n",
    "    plt.show()\n",
    "\n",
    "#usar grafico del profe para ver mejor opcion, distancia promedio vs cant vecinos promedio"
   ]
  },
  {
   "cell_type": "code",
   "execution_count": 26,
   "metadata": {},
   "outputs": [
    {
     "data": {
      "application/vnd.jupyter.widget-view+json": {
       "model_id": "e23c0af9c1464d308d11a5172477250c",
       "version_major": 2,
       "version_minor": 0
      },
      "text/plain": [
       "interactive(children=(Text(value='Spiral.txt', description='archivo'), FloatSlider(value=1.0, description='eps…"
      ]
     },
     "metadata": {},
     "output_type": "display_data"
    },
    {
     "data": {
      "text/plain": [
       "<function __main__.func_DBSCAN(archivo, eps, minimum_samples)>"
      ]
     },
     "execution_count": 26,
     "metadata": {},
     "output_type": "execute_result"
    }
   ],
   "source": [
    "interact(func_DBSCAN,archivo = 'Spiral.txt', eps = widgets.FloatSlider(min=0.1, max=3.7, step=0.1, value=1.0), minimum_samples = widgets.IntSlider(min=1, max=11, step=1, value=4))\n"
   ]
  },
  {
   "cell_type": "code",
   "execution_count": 22,
   "metadata": {},
   "outputs": [
    {
     "data": {
      "application/vnd.jupyter.widget-view+json": {
       "model_id": "42bc59a82024499a93dcebf5eff3425e",
       "version_major": 2,
       "version_minor": 0
      },
      "text/plain": [
       "interactive(children=(Text(value='R15.txt', description='archivo'), FloatSlider(value=1.0, description='eps', …"
      ]
     },
     "metadata": {},
     "output_type": "display_data"
    },
    {
     "data": {
      "text/plain": [
       "<function __main__.func_DBSCAN(archivo, eps, minimum_samples)>"
      ]
     },
     "execution_count": 22,
     "metadata": {},
     "output_type": "execute_result"
    }
   ],
   "source": [
    "interact(func_DBSCAN,archivo = 'R15.txt', eps = widgets.FloatSlider(min=0.1, max=3.7, step=0.1, value=1.0), minimum_samples = widgets.IntSlider(min=1, max=11, step=1, value=4))\n"
   ]
  },
  {
   "cell_type": "code",
   "execution_count": 23,
   "metadata": {},
   "outputs": [
    {
     "data": {
      "application/vnd.jupyter.widget-view+json": {
       "model_id": "78d0c214bfce4a01a4b5680d046634ae",
       "version_major": 2,
       "version_minor": 0
      },
      "text/plain": [
       "interactive(children=(Text(value='cure-t2-4k.txt', description='archivo'), FloatSlider(value=0.1, description=…"
      ]
     },
     "metadata": {},
     "output_type": "display_data"
    },
    {
     "data": {
      "text/plain": [
       "<function __main__.func_DBSCAN(archivo, eps, minimum_samples)>"
      ]
     },
     "execution_count": 23,
     "metadata": {},
     "output_type": "execute_result"
    }
   ],
   "source": [
    "interact(func_DBSCAN,archivo = 'cure-t2-4k.txt', eps = widgets.FloatSlider(min=0.01, max=0.17, step=0.01, value=0.1), minimum_samples = widgets.IntSlider(min=1, max=11, step=1, value=1))\n"
   ]
  },
  {
   "cell_type": "markdown",
   "metadata": {},
   "source": [
    "## 1.4 Hierarchical Agglomerative Clustering  (15 puntos)"
   ]
  },
  {
   "cell_type": "markdown",
   "metadata": {},
   "source": [
    "1. Aplicar el algoritmo HAC a cada uno de los datasets, utilizando tanto single link como complete link. Puede escoger la cantidad de cluster que estime conveniente. \n",
    "2. Realizar una gráfica para cada dataset donde se distinga claramente cada cluster obtenido.\n",
    "3. Finalmente responder: \n",
    "\n",
    "    > a. ¿En cuál dataset se obtiene un mejor resultado utilizando este algoritmo? ¿Por qué? \n",
    "    \n",
    "    > b. ¿En cuál o cuáles datasets se obtiene un mejor resultado para HAC utilizando single-link? ¿Por qué?  \n",
    "    "
   ]
  },
  {
   "cell_type": "code",
   "execution_count": 43,
   "metadata": {},
   "outputs": [
    {
     "data": {
      "image/png": "[encoded data removed]",
      "text/plain": [
       "<Figure size 432x288 with 1 Axes>"
      ]
     },
     "metadata": {
      "needs_background": "light"
     },
     "output_type": "display_data"
    }
   ],
   "source": [
    "#Implementación\n",
    "from scipy.cluster.hierarchy import dendrogram\n",
    "from sklearn.cluster import AgglomerativeClustering\n",
    "\n",
    "def plot_dendrogram(model, **kwargs):\n",
    "    # Create linkage matrix and then plot the dendrogram\n",
    "\n",
    "    # create the counts of samples under each node\n",
    "    counts = np.zeros(model.children_.shape[0])\n",
    "    n_samples = len(model.labels_)\n",
    "    for i, merge in enumerate(model.children_):\n",
    "        current_count = 0\n",
    "        for child_idx in merge:\n",
    "            if child_idx < n_samples:\n",
    "                current_count += 1  # leaf node\n",
    "            else:\n",
    "                current_count += counts[child_idx - n_samples]\n",
    "        counts[i] = current_count\n",
    "\n",
    "    linkage_matrix = np.column_stack([model.children_, model.distances_,\n",
    "                                      counts]).astype(float)\n",
    "\n",
    "    # Plot the corresponding dendrogram\n",
    "    dendrogram(linkage_matrix, **kwargs)\n",
    "\n",
    "X = data_array('Spiral.txt')\n",
    "\n",
    "# setting distance_threshold=0 ensures we compute the full tree.\n",
    "# model = AgglomerativeClustering(distance_threshold=0, n_clusters=None)\n",
    "\n",
    "model = AgglomerativeClustering(distance_threshold=0,linkage=\"complete\",n_clusters=None)\n",
    "model = model.fit(X)\n",
    "plt.title('Hierarchical Clustering Dendrogram')\n",
    "# plot the top three levels of the dendrogram\n",
    "plot_dendrogram(model, truncate_mode='level', p=3)\n",
    "plt.xlabel(\"Number of points in node (or index of point if no parenthesis).\")\n",
    "plt.show()"
   ]
  },
  {
   "cell_type": "markdown",
   "metadata": {},
   "source": [
    "## 1.5 Conclusiones  (10 puntos)"
   ]
  },
  {
   "cell_type": "markdown",
   "metadata": {},
   "source": [
    "Analizando las gráficas obtenidas, responda las siguientes preguntas:\n",
    "> a. ¿Qué algoritmo entregó un mejor resultado para cada dataset? Compare las ventajas y desventajas de cada algoritmo utilizado en relación a las características de los clusters de cada dataset y concluya. Para esta comparación, básese en los resultados para los mejores valores de k, Pts y minPts obtenidos. \n",
    "\n",
    "> b. ¿Qué algoritmo entregó el peor resultado para cada dataset? Justifique. "
   ]
  },
  {
   "cell_type": "markdown",
   "metadata": {},
   "source": [
    "---\n",
    "# Parte 2 - Image Segmentation (20 pts)"
   ]
  },
  {
   "cell_type": "markdown",
   "metadata": {},
   "source": [
    "La segmentación de imagen (Image Segmentation) es un problema de visión computacional que apunta al particionamiento de una imagen en diferentes áreas de pixeles que tienen atributos similares. Eso se realiza generando una máscara sobre la imagen que asigna una etiqueta a cada pixel y donde pixeles con la misma etiqueta forman parte de la misma región. \n",
    "\n",
    "La segmentación de imágenes se utiliza principalmente para detectar objetos o bordes en imágenes, y tiene diversas aplicaciones como lo son la identificación de células cancerígenas en exámenes médicos, identificación de cuerpos de interés en imágenes satelitales, entre otras. \n",
    "\n",
    "\n",
    "<img src=\"https://dl.acm.org/cms/attachment/8542befb-3134-46f0-a5ad-1534c63188b4/csur5204-73-f01.jpg\" title=\"Title text\" width=\"80%\" />\n",
    "<center> <i> Figura 1. Ejemplo de Image Segmentation. </i> </center>\n"
   ]
  },
  {
   "cell_type": "markdown",
   "metadata": {},
   "source": [
    "## Preguntas"
   ]
  },
  {
   "cell_type": "markdown",
   "metadata": {},
   "source": [
    " \n",
    "1. Realice Image Segmentation utilizando el algoritmo K-Means para la imagen1.jpg y la imagen2.jpg\n",
    "2. Muestre gráficamente el resultado de la segmentación en ambas imágenes donde se distingan claramente los clusters obtenidos. Concluya.\n",
    "\n",
    "> Para la pregunta 1, antes de realizar la segmentación se debe realizar un preprocesamiento de las imágenes que consiste en lo siguiente: \n",
    "\n",
    "> 1.En primer lugar, se debe vectorizar la imagen transformando la imagen inicial de dimensiones $p_{w}xp_{h}x3$ en  un array resultante de dimensiones $Kx3$, siendo $K= p_{h}p_{w}$ donde $p_w$ y $p_h$ son el número de pixeles de ancho y alto de la foto respectivamente. \n",
    "\n",
    "> 2.Antes de aplicar la segmentación con K-Means, se debe transformar los valores del arreglo resultante desde uint8 a float32 para poder aplicar el algoritmo K-Means implementado en la librería cv2.\n"
   ]
  },
  {
   "cell_type": "code",
   "execution_count": 67,
   "metadata": {},
   "outputs": [
    {
     "name": "stdout",
     "output_type": "stream",
     "text": [
      "Imagen 1: pw_1 = 286 ph_1 = 176\n",
      "Imagen 2: pw_2 = 500 ph_2 = 500\n"
     ]
    }
   ],
   "source": [
    "#Librerías\n",
    "import cv2\n",
    "\n",
    "im1 = cv2.imread('imagen1.jpg')\n",
    "ph_1, pw_1, _ = im1.shape\n",
    "\n",
    "im2 = cv2.imread('imagen2.jpg')\n",
    "ph_2, pw_2, _ = im2.shape\n",
    "\n",
    "print(\"Imagen 1: pw_1 = %d ph_1 = %d\" % (pw_1, ph_1))\n",
    "print(\"Imagen 2: pw_2 = %d ph_2 = %d\" % (pw_2, ph_2))\n",
    "\n",
    "im1_vectorized = np.reshape(im1, (pw_1 * ph_1, 3))\n",
    "im2_vectorized = np.reshape(im2, (pw_2 * ph_2, 3))\n",
    "\n"
   ]
  },
  {
   "cell_type": "markdown",
   "metadata": {},
   "source": [
    "---\n",
    "# Parte 3 - Community Detection (25 pts) "
   ]
  },
  {
   "cell_type": "markdown",
   "metadata": {},
   "source": [
    "En la última parte de la tarea, se estudiará el algoritmo Louvain para Detección de Comunidades aplicado al dataset de grafos \"Enron email network\". "
   ]
  },
  {
   "cell_type": "markdown",
   "metadata": {},
   "source": [
    "## Dataset"
   ]
  },
  {
   "cell_type": "markdown",
   "metadata": {},
   "source": [
    "* Para esta parte de la tarea, trabajaremos con el dataset de grafos <b>\"Enron email network\"</b>, el cual contiene las interacciones vía correo electrónico de 36692 trabajadores y trabajadoras de la compañía energética estadounidense \"Enron\". \n",
    "* Este dataset se encuentra contenido en el archivo adjunto \"Email-Enron.txt\" en el cual se enumeran todos los pares de correos electrónicos de dicha empresa entre los cuales se ha enviado al menos un mensaje. \n",
    "* El archivo contiene 183831 líneas, las cuales corresponden al total de aristas no dirigidas del grafo y su formato por línea es:\n",
    "\n",
    "<blockquote> #Nodo_origen \\t #Nodo_destino. </blockquote>"
   ]
  },
  {
   "cell_type": "markdown",
   "metadata": {},
   "source": [
    "## Community Detection"
   ]
  },
  {
   "cell_type": "markdown",
   "metadata": {},
   "source": [
    "El problema de <b>Detección de Comunidades</b> es un problema fundamental en análisis de redes y consiste en buscar grupos de nodos que tengan ciertas propiedades en común y que, por tanto, sean más similares entre si que con otros nodos. A estos conjuntos de nodos les llamamos \"comunidades\". \n",
    "\n",
    "Si modelamos las interacciones de un conjunto de personas en un determinado contexto como un grafo, tendríamos que los nodos corresponderían a las personas y las aristas a las interacciones entre ellas. En este contexto, podemos definir a una comunidad como un subconjunto de nodos del grafo que están densamente conectados entre sí y débilmente conectados a los nodos en otras comunidades dentro del grafo. \n",
    "\n",
    "Para esto, podemos utilizar el algoritmo Louvain de Detección de comunidades para realizar Clustering en grafos, en el cual los clusters obtenidos corresponderán a las comunidades dentro del grafo. \n"
   ]
  },
  {
   "cell_type": "markdown",
   "metadata": {},
   "source": [
    "## Algoritmo Louvain "
   ]
  },
  {
   "cell_type": "markdown",
   "metadata": {},
   "source": [
    "Es un algoritmo para detección de comunidades en redes complejas o grafos, ideado en 2008 por investigadores de la Universidad Católica de Bélgica, cuyo objetivo es maximizar la modularidad de un grafo. "
   ]
  },
  {
   "cell_type": "markdown",
   "metadata": {},
   "source": [
    "¿Qué es la modularidad? Es una medida que compara la cantidad de aristas dentro y fuera de la comunidad, la cual está expresada por la siguiente ecuación para grafos con peso:  "
   ]
  },
  {
   "cell_type": "markdown",
   "metadata": {},
   "source": [
    "\\begin{equation*}\n",
    "    Q = \\dfrac{1}{2m} \\sum_{i,j} [ A_{ij} - \\dfrac{k_{i}k_{j}}{2m}] \\delta (c_{i}, c_{j})\n",
    "\\end{equation*}\n",
    "\n",
    "Donde:\n",
    "\n",
    "* $A_{ij}$ es el peso de la arista entre $i$ y $j$\n",
    "* $k_{i}$, $k_{j}$ son la suma de los pesos de las aristas conectadas a los nodos i y j respectivamente\n",
    "* $m$ es la suma de todos los pesos de las aristas en el grafo\n",
    "* $\\delta$ es la función delta de Kronecker. La cual es 1 si $x = y$ y 0 en el caso contrario. \n",
    "* $Q \\in [-1,1]$\n"
   ]
  },
  {
   "cell_type": "markdown",
   "metadata": {},
   "source": [
    "Para optimizar la modularidad, el algoritmo realiza los siguientes pasos: \n",
    "1. Inicialmente, cada nodo constituye una comunidad. \n",
    "2. Luego, se selecciona un nodo al azar y se evalúa si la partición tiene mejor modularidad al asignar dicho nodo a la comunidad de alguno de sus vecinos. \n",
    "3. Si la modularidad de la partición actual es mejor, el nodo se queda en su comunidad. \n",
    "4. Si la modularidad de la partición al asignar el nodo a uno de sus vecinos es mejor, se asigna dicho nodo a la comunidad de dicho vecino. \n",
    "5. Se sigue seleccionando nodos al azar y realizando los pasos anteriores, hasta que las particiones obtenidas en dos pasos seguidos sean iguales. \n"
   ]
  },
  {
   "cell_type": "markdown",
   "metadata": {},
   "source": [
    "> Para esta implementación, se debe instalar la librería [Python-Louvain](https://github.com/taynaud/python-louvain) (<i>leer documentación y pasos de instalación</i>). Además, utilice la librería networkx para elaborar el grafo. "
   ]
  },
  {
   "cell_type": "code",
   "execution_count": null,
   "metadata": {},
   "outputs": [],
   "source": [
    "#Librerías\n",
    "import community as community_louvain\n",
    "import networkx as nx"
   ]
  },
  {
   "cell_type": "markdown",
   "metadata": {},
   "source": [
    "## Preguntas"
   ]
  },
  {
   "cell_type": "markdown",
   "metadata": {},
   "source": [
    "1. Cargar el dataset en un grafo de networkx.\n",
    "2. Aplicar el algoritmo Louvain para Clustering en el grafo. \n",
    "3. Generar un nuevo archivo \"out.txt\" con los nodos etiquetados. \n",
    "4. Mostrar gráficamente 5 comunidades. No importa si estas comunidades están conectadas las unas a las otras.  "
   ]
  },
  {
   "cell_type": "code",
   "execution_count": null,
   "metadata": {},
   "outputs": [],
   "source": [
    "#Implementación"
   ]
  }
 ],
 "metadata": {
  "kernelspec": {
   "display_name": "Python 3",
   "language": "python",
   "name": "python3"
  },
  "language_info": {
   "codemirror_mode": {
    "name": "ipython",
    "version": 3
   },
   "file_extension": ".py",
   "mimetype": "text/x-python",
   "name": "python",
   "nbconvert_exporter": "python",
   "pygments_lexer": "ipython3",
   "version": "3.7.3"
  }
 },
 "nbformat": 4,
 "nbformat_minor": 2
}
